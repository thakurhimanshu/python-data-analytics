{
 "cells": [
  {
   "cell_type": "markdown",
   "metadata": {},
   "source": [
    "# Data_structuers\n",
    "list > indexed : ordered : matuable : heterogenous : have duplicate = [] , list()\n",
    "tuple > indexed : ordered : immutable: heterogenous : heterogenous  = () , tuple ()\n",
    "set > unindexed : unordered : mutable : heterogenous: only uniqe values : just values  = {} set ()\n",
    "distionary > unindexed : ordered : mutable : heterogenous: have : key values pair = {} dict ()"
   ]
  },
  {
   "cell_type": "markdown",
   "metadata": {},
   "source": [
    "# list\n",
    "- creating \n",
    "- indexing n slicing ( same as string )\n",
    "- mathods \n",
    "- comprehension"
   ]
  },
  {
   "cell_type": "code",
   "execution_count": null,
   "metadata": {},
   "outputs": [],
   "source": [
    "a=  [] # empty list              # empty list \n",
    "b=  [1,2,3] # numerical list     # numerical list\n",
    "c=  ['apple', 'banana','cherry'] # string list \n",
    "d=  [ 'apple', 1, 'banana', 2, 'cherry' , 3]\n",
    "e=  [[1,2,3],[4,5,6],[7,8,9]]\n",
    "f=  [['apple',1],[]]"
   ]
  },
  {
   "cell_type": "code",
   "execution_count": null,
   "metadata": {},
   "outputs": [],
   "source": [
    "g= list ('hello')\n",
    "h= list (range(10))\n",
    "i= list(1,2,3,4,5)\n",
    "j= [1,2,3] * 5            # duplicate list\n",
    "print (g)\n",
    "print (h)\n",
    "print (i)\n",
    "print (j)"
   ]
  },
  {
   "cell_type": "code",
   "execution_count": null,
   "metadata": {},
   "outputs": [],
   "source": [
    "movies = ['kungu fu panda', 'wish dragon'\n",
    "          'the croods','moana', 'invincible']\n",
    "print (movies)\n",
    "print(len(movies))\n",
    "print(\"first movies:, \",movies[0])\n",
    "print(\"last movies:, \",movies[-1])\n",
    "print(\"second movies:, \",movies[1])\n",
    "print(\"third movies:, \",movies[2])"
   ]
  },
  {
   "cell_type": "code",
   "execution_count": null,
   "metadata": {},
   "outputs": [],
   "source": [
    "numbers= [1,2,3,4,5,6,7,8,9,10]\n",
    "print(numbers[:3]) # 0, 1, 2\n",
    "print(numbers[-3:]) # 8, 9, 10\n",
    "print(numbers[2:-2]) #  everything expect first two and last two\n",
    "print(numbers[::-1])\n"
   ]
  },
  {
   "cell_type": "markdown",
   "metadata": {},
   "source": [
    "# list methods (11)\n",
    "- adding / updating \n",
    "   - ' append ()'\n",
    "   - ' extend ()'\n",
    "   - ' insert ()\n",
    "-  removing / deleting \n",
    "   -  ' remove ()'\n",
    "   -  ' pop ()'\n",
    "   -  ' clear()'\n",
    "- utility\n",
    "   -  ' sort ()'\n",
    "   -  ' reverse ()'\n",
    "   -  ' index ()\n",
    "   -  ' count ()'\n",
    "   -  ' copy ()' "
   ]
  },
  {
   "cell_type": "code",
   "execution_count": 3,
   "metadata": {},
   "outputs": [
    {
     "name": "stdout",
     "output_type": "stream",
     "text": [
      "favorite books: ['', 'richdad', 'harry potter', 'rich dad', 'herry potter']\n",
      "hated books: ['legion', 'assus', 'dell']\n",
      "favorite books:\n"
     ]
    }
   ],
   "source": [
    "fav_books=[]\n",
    "hated_books=[]\n",
    "for i in range (5):\n",
    "     books  = input (\"enter your favorite books:\")\n",
    "     fav_books.append(books)\n",
    "for i in range (3):\n",
    "     book = input(\"enter your hated books:\")\n",
    "     hated_books.append(book)\n",
    "\n",
    "print(\"favorite books:\",fav_books)\n",
    "print(\"hated books:\",hated_books)\n",
    "\n",
    "print(\"favorite books:\")"
   ]
  },
  {
   "cell_type": "code",
   "execution_count": null,
   "metadata": {},
   "outputs": [],
   "source": []
  },
  {
   "cell_type": "code",
   "execution_count": 7,
   "metadata": {},
   "outputs": [
    {
     "name": "stdout",
     "output_type": "stream",
     "text": [
      "['', 'richdad', 'harry potter', 'rich dad', 'herry potter', 'legion', 'assus', 'dell']\n"
     ]
    }
   ],
   "source": [
    "# merge two lists and create a new list\n",
    "books = fav_books + hated_books\n",
    "print(books)"
   ]
  },
  {
   "cell_type": "code",
   "execution_count": 8,
   "metadata": {},
   "outputs": [
    {
     "name": "stdout",
     "output_type": "stream",
     "text": [
      "['', 'richdad', 'harry potter', 'rich dad', 'herry potter', 'legion', 'assus', 'dell', 'Legion', 'Rithmast', 'steelheart']\n",
      "total books: 4\n"
     ]
    }
   ],
   "source": [
    "# adding a list to exiting list\n",
    "books.extend(['Legion','Rithmast','steelheart'])\n",
    "print(books)\n",
    "print('total books:',len(book))"
   ]
  },
  {
   "cell_type": "code",
   "execution_count": null,
   "metadata": {},
   "outputs": [],
   "source": [
    "books.append(['dairy of a wimpy kid', 'harry potter ']) # nesting \n",
    "print(books)"
   ]
  },
  {
   "cell_type": "code",
   "execution_count": null,
   "metadata": {},
   "outputs": [],
   "source": [
    "books.insert(1,'the well of accenion')# insert"
   ]
  },
  {
   "cell_type": "code",
   "execution_count": null,
   "metadata": {},
   "outputs": [],
   "source": [
    "books [10]"
   ]
  },
  {
   "cell_type": "code",
   "execution_count": null,
   "metadata": {},
   "outputs": [],
   "source": [
    "books.remove(\"rithmatist\") # remove by value \n"
   ]
  },
  {
   "cell_type": "code",
   "execution_count": null,
   "metadata": {},
   "outputs": [],
   "source": [
    "books.pop(6) # remove by insex"
   ]
  },
  {
   "cell_type": "code",
   "execution_count": null,
   "metadata": {},
   "outputs": [],
   "source": [
    "books.pop()# remove last element"
   ]
  },
  {
   "cell_type": "code",
   "execution_count": null,
   "metadata": {},
   "outputs": [],
   "source": [
    "hated_books.clear() # remove all elemennts\n",
    "hated_books"
   ]
  },
  {
   "cell_type": "markdown",
   "metadata": {},
   "source": [
    "wap to create an empty list, then fill the list with 10 prime numbers using loop, starting with 2"
   ]
  }
 ],
 "metadata": {
  "kernelspec": {
   "display_name": "Python 3",
   "language": "python",
   "name": "python3"
  },
  "language_info": {
   "codemirror_mode": {
    "name": "ipython",
    "version": 3
   },
   "file_extension": ".py",
   "mimetype": "text/x-python",
   "name": "python",
   "nbconvert_exporter": "python",
   "pygments_lexer": "ipython3",
   "version": "3.12.4"
  }
 },
 "nbformat": 4,
 "nbformat_minor": 2
}
