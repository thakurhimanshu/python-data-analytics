{
 "cells": [
  {
   "cell_type": "markdown",
   "metadata": {},
   "source": [
    "# Data_structuers\n",
    "list > indexed : ordered : matuable : heterogenous : have duplicate = [] , list()\n",
    "tuple > indexed : ordered : immutable: heterogenous : heterogenous  = () , tuple ()\n",
    "set > unindexed : unordered : mutable : heterogenous: only uniqe values : just values  = {} set ()\n",
    "distionary > unindexed : ordered : mutable : heterogenous: have : key values pair = {} dict ()"
   ]
  },
  {
   "cell_type": "markdown",
   "metadata": {},
   "source": [
    "# list\n",
    "- creating \n",
    "- indexing n slicing ( same as string )\n",
    "- mathods \n",
    "- comprehension"
   ]
  },
  {
   "cell_type": "code",
   "execution_count": null,
   "metadata": {},
   "outputs": [],
   "source": [
    "a=[]                                                                          # empty list \n",
    "b=[1,2,3]                                                                     # numerical list     # numerical list\n",
    "c=['apple', 'banana','cherry']                                                # mixed list\n",
    "d=['apple', 1, 'banana', 2, 'cherry' , 3]                                     # list of list\n",
    "e=[[1,2,3],[4,5,6],[7,8,9]]                                                   # mixed nested list\n",
    "f=[['apple',1],[]]                                                            # string list \n",
    "print(a)\n",
    "print(b)\n",
    "print(c)\n",
    "print(d)\n",
    "print(e)\n",
    "print(f)\n"
   ]
  },
  {
   "cell_type": "code",
   "execution_count": null,
   "metadata": {},
   "outputs": [],
   "source": [
    "g= list ('hello')\n",
    "h= list (range(10))\n",
    "i= list(1,2,3,4,5)\n",
    "j= [1,2,3] * 5            # duplicate list\n",
    "print (g)\n",
    "print (h)\n",
    "print (i)\n",
    "print (j)"
   ]
  },
  {
   "cell_type": "code",
   "execution_count": null,
   "metadata": {},
   "outputs": [],
   "source": [
    "movies = ['kungu fu panda', 'wish dragon'\n",
    "          'the croods','moana', 'invincible']\n",
    "print (movies)\n",
    "print(len(movies))\n",
    "print(\"first movies:, \",movies[0])\n",
    "print(\"last movies:, \",movies[-1])\n",
    "print(\"second movies:, \",movies[1])\n",
    "print(\"third movies:, \",movies[2])"
   ]
  },
  {
   "cell_type": "code",
   "execution_count": null,
   "metadata": {},
   "outputs": [],
   "source": [
    "numbers= [1,2,3,4,5,6,7,8,9,10]\n",
    "print(numbers[:3]) # 0, 1, 2\n",
    "print(numbers[-3:]) # 8, 9, 10\n",
    "print(numbers[2:-2]) #  everything expect first two and last two\n",
    "print(numbers[::-1])\n"
   ]
  },
  {
   "cell_type": "markdown",
   "metadata": {},
   "source": [
    "# list methods (11)\n",
    "- adding / updating \n",
    "   - ' append ()'\n",
    "   - ' extend ()'\n",
    "   - ' insert ()\n",
    "-  removing / deleting \n",
    "   -  ' remove ()'\n",
    "   -  ' pop ()'\n",
    "   -  ' clear()'\n",
    "- utility\n",
    "   -  ' sort ()'\n",
    "   -  ' reverse ()'\n",
    "   -  ' index ()\n",
    "   -  ' count ()'\n",
    "   -  ' copy ()' "
   ]
  },
  {
   "cell_type": "code",
   "execution_count": null,
   "metadata": {},
   "outputs": [],
   "source": [
    "fav_books=[]\n",
    "hated_books=[]\n",
    "for i in range (5):\n",
    "     books  = input (\"enter your favorite books:\")\n",
    "     fav_books.append(books)\n",
    "for i in range (3):\n",
    "     book = input(\"enter your hated books:\")\n",
    "     hated_books.append(book)\n",
    "\n",
    "print(\"favorite books:\",fav_books)\n",
    "print(\"hated books:\",hated_books)\n",
    "\n",
    "print(\"favorite books:\")"
   ]
  },
  {
   "cell_type": "code",
   "execution_count": null,
   "metadata": {},
   "outputs": [],
   "source": []
  },
  {
   "cell_type": "code",
   "execution_count": null,
   "metadata": {},
   "outputs": [],
   "source": [
    "# merge two lists and create a new list\n",
    "books = fav_books + hated_books\n",
    "print(books)"
   ]
  },
  {
   "cell_type": "code",
   "execution_count": null,
   "metadata": {},
   "outputs": [],
   "source": [
    "# adding a list to exiting list\n",
    "books.extend(['Legion','Rithmast','steelheart'])\n",
    "print(books)\n",
    "print('total books:',len(book))"
   ]
  },
  {
   "cell_type": "code",
   "execution_count": null,
   "metadata": {},
   "outputs": [],
   "source": [
    "books.append(['dairy of a wimpy kid', 'harry potter ']) # nesting \n",
    "print(books)"
   ]
  },
  {
   "cell_type": "code",
   "execution_count": null,
   "metadata": {},
   "outputs": [],
   "source": [
    "books.insert(1,'the well of accenion')# insert"
   ]
  },
  {
   "cell_type": "code",
   "execution_count": null,
   "metadata": {},
   "outputs": [],
   "source": [
    "books [10]"
   ]
  },
  {
   "cell_type": "code",
   "execution_count": null,
   "metadata": {},
   "outputs": [],
   "source": [
    "books.remove(\"rithmatist\") # remove by value \n"
   ]
  },
  {
   "cell_type": "code",
   "execution_count": null,
   "metadata": {},
   "outputs": [],
   "source": [
    "books.pop(6) # remove by insex"
   ]
  },
  {
   "cell_type": "code",
   "execution_count": null,
   "metadata": {},
   "outputs": [],
   "source": [
    "books.pop()# remove last element"
   ]
  },
  {
   "cell_type": "code",
   "execution_count": null,
   "metadata": {},
   "outputs": [],
   "source": [
    "hated_books.clear() # remove all elemennts\n",
    "hated_books"
   ]
  },
  {
   "cell_type": "markdown",
   "metadata": {},
   "source": [
    "wap to create an empty list, then fill the list with 10 prime numbers using loop, starting with 2"
   ]
  },
  {
   "cell_type": "code",
   "execution_count": null,
   "metadata": {},
   "outputs": [],
   "source": [
    "numbers = [12,3,67,1,2,6,78,23,5,67,2]\n",
    "#reverse \n",
    "numbers [::-1]# gives the result but doesn't change the original list  "
   ]
  },
  {
   "cell_type": "code",
   "execution_count": null,
   "metadata": {},
   "outputs": [],
   "source": [
    "numbers . reverse # changes the original list"
   ]
  },
  {
   "cell_type": "code",
   "execution_count": null,
   "metadata": {},
   "outputs": [],
   "source": [
    "print (numbers)"
   ]
  },
  {
   "cell_type": "code",
   "execution_count": null,
   "metadata": {},
   "outputs": [],
   "source": [
    "numbers.sort()# ascending order , changes the original list\n",
    "print(numbers)\n",
    "numbers.sort(reverse=True) # descending order\n",
    "print(numbers)"
   ]
  },
  {
   "cell_type": "code",
   "execution_count": null,
   "metadata": {},
   "outputs": [],
   "source": [
    "x=[[1,12],[2,5],[5,10],[4,15]]\n",
    "x.sort() # sort by first element of each sublist\n",
    "print(x)"
   ]
  },
  {
   "cell_type": "code",
   "execution_count": null,
   "metadata": {},
   "outputs": [],
   "source": [
    "x.sort(key=lambda i: sum(i))\n",
    "print(x)"
   ]
  },
  {
   "cell_type": "code",
   "execution_count": null,
   "metadata": {},
   "outputs": [],
   "source": [
    "users=[('alice',25,),('bob',19),('alex',35)]\n",
    "users.sort()\n",
    "print(users)"
   ]
  },
  {
   "cell_type": "code",
   "execution_count": null,
   "metadata": {},
   "outputs": [],
   "source": [
    "cart=[\n",
    "    ['mobile',25000,2],\n",
    "    ['laptop',6000,1],\n",
    "    ['watch',3000,3],\n",
    "    ['headphones',1500,2]\n",
    "]\n",
    "cart.sort(key=lambda e:e[2])\n",
    "cart.sort(key=lambda e:e[1])\n",
    "print(cart)"
   ]
  },
  {
   "cell_type": "code",
   "execution_count": null,
   "metadata": {},
   "outputs": [],
   "source": [
    "a[1,2,31,2,3,1,2,3,4,4,5,1,1,1,1,0]\n",
    "print(\"1 occurs\",a.count (1))\n",
    "print(\"5 occurs\",a.count (5))\n",
    "print(\"10 occurs\",a.count (10))"
   ]
  },
  {
   "cell_type": "code",
   "execution_count": null,
   "metadata": {},
   "outputs": [],
   "source": [
    "numbers.index(12) #gives the index of 12 (first occurenece)"
   ]
  },
  {
   "cell_type": "code",
   "execution_count": null,
   "metadata": {},
   "outputs": [],
   "source": [
    "a=[1,2,3,4,5]\n",
    "b = a.copy()                   #shallow copy\n",
    "c=a                            # reference copy\n",
    "print(a)\n",
    "print(b)\n",
    "print(c)\n",
    "a.append(6)\n",
    "b.append(10)\n",
    "c.append(20)\n",
    "print(a)\n",
    "print(b)\n",
    "print(c)\n"
   ]
  },
  {
   "cell_type": "code",
   "execution_count": null,
   "metadata": {},
   "outputs": [],
   "source": [
    "a=[1,2,3,4,5]\n",
    "a3=[i**3 for i in a]\n",
    "print(a)\n",
    "print(a3)\n",
    "a5 =[i-5 for i in a]\n",
    "print(a5)\n",
    "aeven2=[i**2 for i in a if i%2==0]\n",
    "print(aeven2)\n"
   ]
  },
  {
   "cell_type": "code",
   "execution_count": null,
   "metadata": {},
   "outputs": [],
   "source": [
    "# rookie way\n",
    "aodda2=[]\n",
    "for i in a :\n",
    "    if i%2!=0:\n",
    "        aodda2.append(i**2)\n",
    "# pythonic way\n",
    "aeven2 =[i**2 for i in a if i%2==0]\n",
    "print(aeven2)\n",
    "# map and filter \n",
    "# aodda2 = list(map(lambda i : i**2 ,filter (lambda i : 1%2!=0,a))) # not good "
   ]
  },
  {
   "cell_type": "code",
   "execution_count": 25,
   "metadata": {},
   "outputs": [
    {
     "name": "stdout",
     "output_type": "stream",
     "text": [
      "['as', 'bb', 'cg', 'dw']\n",
      "['as', 'bb', 'cg', 'dw']\n"
     ]
    }
   ],
   "source": [
    "names= ['alice smith','bob brown','charlie green', 'devid white']\n",
    "\n",
    "initials=[]\n",
    "for n in names:\n",
    "    initials.append(f\"{n.split()[0][0]}{n.split()[-1][0]}\")\n",
    "print(initials)\n",
    "\n",
    "#comprehension\n",
    "initials=[f\"{n.split()[0][0]}{n.split()[1][0]}\" for n in names]\n",
    "print(initials)"
   ]
  },
  {
   "cell_type": "code",
   "execution_count": null,
   "metadata": {},
   "outputs": [],
   "source": []
  }
 ],
 "metadata": {
  "kernelspec": {
   "display_name": "Python 3",
   "language": "python",
   "name": "python3"
  },
  "language_info": {
   "codemirror_mode": {
    "name": "ipython",
    "version": 3
   },
   "file_extension": ".py",
   "mimetype": "text/x-python",
   "name": "python",
   "nbconvert_exporter": "python",
   "pygments_lexer": "ipython3",
   "version": "3.12.4"
  }
 },
 "nbformat": 4,
 "nbformat_minor": 2
}
