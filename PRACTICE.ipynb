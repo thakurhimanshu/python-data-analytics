{
 "cells": [
  {
   "cell_type": "code",
   "execution_count": 2,
   "metadata": {},
   "outputs": [
    {
     "name": "stdout",
     "output_type": "stream",
     "text": [
      "57500.0\n"
     ]
    }
   ],
   "source": [
    "bs=50000\n",
    "hra=bs*(5/100)\n",
    "da=bs*(10/100)\n",
    "gross=bs+hra+da\n",
    "print(gross)"
   ]
  },
  {
   "cell_type": "code",
   "execution_count": 1,
   "metadata": {},
   "outputs": [
    {
     "name": "stdout",
     "output_type": "stream",
     "text": [
      "314.2857142857143\n"
     ]
    }
   ],
   "source": [
    "r=10\n",
    "a=22/7*10*10\n",
    "print(a)"
   ]
  },
  {
   "cell_type": "code",
   "execution_count": 3,
   "metadata": {},
   "outputs": [
    {
     "name": "stdout",
     "output_type": "stream",
     "text": [
      "0\n",
      "1\n",
      "1\n",
      "2\n",
      "3\n",
      "5\n",
      "8\n",
      "13\n",
      "21\n"
     ]
    }
   ],
   "source": [
    "num=int(input(\"ENTER THE VALUE :\"))\n",
    "x=0\n",
    "y=1\n",
    "z=0\n",
    "while(z<=num):\n",
    "    print(z)\n",
    "    x=y\n",
    "    y=z\n",
    "    z=x+y\n",
    "    \n"
   ]
  },
  {
   "cell_type": "code",
   "execution_count": 7,
   "metadata": {},
   "outputs": [
    {
     "name": "stdout",
     "output_type": "stream",
     "text": [
      "COMPOSITE NUMER😒\n"
     ]
    }
   ],
   "source": [
    "num=int(input(\"enter the value\"))\n",
    "if num<2:\n",
    "    print(\"Naah Bro!! its not a Prime Number 😒\")\n",
    "else:\n",
    "    for i in range(2,num):\n",
    "     if num%i==0:\n",
    "            print(\"COMPOSITE NUMER😒\")\n",
    "            break\n",
    "    else:\n",
    "            print(\"PRIME NUMBER😎\")\n",
    "\n"
   ]
  },
  {
   "cell_type": "code",
   "execution_count": 8,
   "metadata": {},
   "outputs": [
    {
     "name": "stdout",
     "output_type": "stream",
     "text": [
      "⭐⭐⭐⭐/5: NOMINATED FOR FILMAFARE: LAGAAN\n",
      "⭐⭐⭐⭐⭐/5: NOMINATED FOR FILMAFARE: KAL HO NA HO\n",
      "⭐⭐⭐⭐/5: NOMINATED FOR FILMAFARE: KOI MIL GAYA\n",
      "⭐⭐⭐⭐/5: NOMINATED FOR FILMAFARE: BAGHBAAN\n",
      "⭐⭐⭐⭐/5: NOMINATED FOR FILMAFARE: VEER-ZARA\n"
     ]
    }
   ],
   "source": [
    "a,b,c,d,e='LAGAAN','KAL HO NA HO','KOI MIL GAYA','BAGHBAAN','VEER-ZARA'\n",
    "print(f'⭐⭐⭐⭐/5: NOMINATED FOR FILMAFARE: {a}')\n",
    "print(f'⭐⭐⭐⭐⭐/5: NOMINATED FOR FILMAFARE: {b}')\n",
    "print(f'⭐⭐⭐⭐/5: NOMINATED FOR FILMAFARE: {c}')\n",
    "print(f'⭐⭐⭐⭐/5: NOMINATED FOR FILMAFARE: {d}')\n",
    "print(f'⭐⭐⭐⭐/5: NOMINATED FOR FILMAFARE: {e}')"
   ]
  },
  {
   "cell_type": "code",
   "execution_count": 1,
   "metadata": {},
   "outputs": [
    {
     "name": "stdout",
     "output_type": "stream",
     "text": [
      "ITS A PALINDROMIC NUMBER\n"
     ]
    }
   ],
   "source": [
    "num=int(input('Enter a Value'))\n",
    "op=num\n",
    "rev=0\n",
    "while(num>0):\n",
    "    rev=rev*10+num%10\n",
    "    num=num//10\n",
    "\n",
    "if rev==op:\n",
    " print(\"ITS A PALINDROMIC NUMBER\")\n",
    "\n",
    "    \n",
    "else:\n",
    " print('NOT A PALINDROMIC')\n",
    "\n",
    "    \n"
   ]
  },
  {
   "cell_type": "code",
   "execution_count": 4,
   "metadata": {},
   "outputs": [
    {
     "name": "stdout",
     "output_type": "stream",
     "text": [
      "Happy enironment day: 5/June/2024🌍\n"
     ]
    }
   ],
   "source": [
    "carbon_emission=int(input(\"Enter The Emission Volume\"))\n",
    "if carbon_emission>10**6:\n",
    "    c_tax=carbon_emission*0.6\n",
    "    print(c_tax, '⚠️ Danger on Environment Sustainability')\n",
    "    print()\n",
    "elif carbon_emission<10**6 and carbon_emission>=10**3:\n",
    "    c_tax=carbon_emission*0.2\n",
    "    print(c_tax,\"Transitioning towards critical stage\")\n",
    "elif carbon_emission<10**3 and carbon_emission>=10**1:\n",
    "    print(\"Plant More trees🌳🌳🌳\")\n",
    "else:\n",
    "    print(\"Happy enironment day: 5/June/2024🌍\")\n",
    "    "
   ]
  },
  {
   "cell_type": "code",
   "execution_count": 12,
   "metadata": {},
   "outputs": [],
   "source": []
  },
  {
   "cell_type": "code",
   "execution_count": 8,
   "metadata": {},
   "outputs": [
    {
     "name": "stdout",
     "output_type": "stream",
     "text": [
      "dgpdm\n"
     ]
    }
   ],
   "source": [
    "sen=input(\"Enter the String\")\n",
    "s=''\n",
    "for i in sen[0:len(sen)]:\n",
    "    if i=='a' or  i=='e' or i=='i' or i=='o' or i=='u':\n",
    "        continue\n",
    "    s=s+i\n",
    "print(s)\n",
    "    "
   ]
  },
  {
   "cell_type": "code",
   "execution_count": 1,
   "metadata": {},
   "outputs": [
    {
     "name": "stdout",
     "output_type": "stream",
     "text": [
      "honesty is the best policy\n"
     ]
    }
   ],
   "source": [
    "string=\"honesty is the best policy\"\n",
    "print(string)"
   ]
  },
  {
   "cell_type": "code",
   "execution_count": 2,
   "metadata": {},
   "outputs": [
    {
     "name": "stdout",
     "output_type": "stream",
     "text": [
      "19\n"
     ]
    }
   ],
   "source": [
    "data=input(\"Enter the string\")\n",
    "print(len(data))"
   ]
  },
  {
   "cell_type": "code",
   "execution_count": 45,
   "metadata": {},
   "outputs": [
    {
     "name": "stdout",
     "output_type": "stream",
     "text": [
      "great\n"
     ]
    }
   ],
   "source": [
    "data1=\"Python is great\"\n",
    "print(data1[-5:])"
   ]
  },
  {
   "cell_type": "code",
   "execution_count": 29,
   "metadata": {},
   "outputs": [
    {
     "name": "stdout",
     "output_type": "stream",
     "text": [
      "python\n",
      "is\n",
      "everywhere\n"
     ]
    }
   ],
   "source": [
    "data='python is everywhere'\n",
    "new = data.split(\" \")\n",
    "print(new[0])\n",
    "print(new[1])\n",
    "print(new[2])\n"
   ]
  },
  {
   "cell_type": "code",
   "execution_count": 43,
   "metadata": {},
   "outputs": [
    {
     "name": "stdout",
     "output_type": "stream",
     "text": [
      "!dlroW olleH\n"
     ]
    }
   ],
   "source": [
    "str=\"Hello World!\"\n",
    "print(str[:12][::-1])"
   ]
  },
  {
   "cell_type": "code",
   "execution_count": 44,
   "metadata": {},
   "outputs": [
    {
     "name": "stdout",
     "output_type": "stream",
     "text": [
      "HOW ARE YOU?\n"
     ]
    }
   ],
   "source": [
    "upp=\"How are you?\"\n",
    "print(upp.upper())"
   ]
  },
  {
   "cell_type": "code",
   "execution_count": 46,
   "metadata": {},
   "outputs": [
    {
     "name": "stdout",
     "output_type": "stream",
     "text": [
      "how is it going?\n"
     ]
    }
   ],
   "source": [
    "low=\"How Is It Going?\"\n",
    "print(low.lower())"
   ]
  },
  {
   "cell_type": "code",
   "execution_count": 47,
   "metadata": {},
   "outputs": [
    {
     "data": {
      "text/plain": [
       "'Python is easy to learn'"
      ]
     },
     "execution_count": 47,
     "metadata": {},
     "output_type": "execute_result"
    }
   ],
   "source": [
    "word=['Python','is','easy','to','learn']\n",
    "' '.join(word)"
   ]
  },
  {
   "cell_type": "code",
   "execution_count": 48,
   "metadata": {},
   "outputs": [
    {
     "name": "stdout",
     "output_type": "stream",
     "text": [
      "to move o newline '\\n'is used\n",
      "to move o newline '\\\\n'is used\n"
     ]
    }
   ],
   "source": [
    "print(\"to move o newline '\\\\n'is used\")\n",
    "print(r\"to move o newline '\\\\n'is used\")"
   ]
  },
  {
   "cell_type": "code",
   "execution_count": 9,
   "metadata": {},
   "outputs": [
    {
     "name": "stdout",
     "output_type": "stream",
     "text": [
      "5.590909090909091\n"
     ]
    }
   ],
   "source": [
    "# 25\n",
    "count=0\n",
    "txt=\"this is a paragraph which is written just for the purpose of providing content to let the average word length be calculated\"\n",
    "for i in txt:\n",
    " count+=1\n",
    "sen=txt.split(' ')\n",
    "ns=len(sen)\n",
    "avg=count/ns\n",
    "print(avg)\n"
   ]
  },
  {
   "cell_type": "code",
   "execution_count": 21,
   "metadata": {},
   "outputs": [
    {
     "name": "stdout",
     "output_type": "stream",
     "text": [
      "python\n"
     ]
    }
   ],
   "source": [
    "# 24\n",
    "text1 = '%p34@y!*-*!t68h#&on404'\n",
    "const=''\n",
    "for j in text1:\n",
    "    if j.isalpha():\n",
    "     const=const+j\n",
    "print(const)"
   ]
  },
  {
   "cell_type": "code",
   "execution_count": 6,
   "metadata": {},
   "outputs": [
    {
     "name": "stdout",
     "output_type": "stream",
     "text": [
      "Search Succesfull\n"
     ]
    }
   ],
   "source": [
    "# 23\n",
    "usr=input(\"enter the string\")\n",
    "if usr.find('fyi')!=-1:\n",
    "    print(\"Search Succesfull\")\n",
    "else:\n",
    "    print(\"Go to Sleep!!!\")\n",
    "\n",
    "        "
   ]
  },
  {
   "cell_type": "code",
   "execution_count": 51,
   "metadata": {},
   "outputs": [
    {
     "name": "stdout",
     "output_type": "stream",
     "text": [
      "thisayeisayesomeayetextaye\n"
     ]
    }
   ],
   "source": [
    "\n",
    "#22\n",
    "text = 'this is some text'\n",
    "knj=text.split()\n",
    "d=''\n",
    "for i in knj:\n",
    "    d=d+i+'aye'\n",
    "print(d)\n",
    "\n"
   ]
  },
  {
   "cell_type": "code",
   "execution_count": 63,
   "metadata": {},
   "outputs": [
    {
     "name": "stdout",
     "output_type": "stream",
     "text": [
      "['Joe', 'David', 'Mark', 'Tom', 'Chris', 'Robert']\n"
     ]
    }
   ],
   "source": [
    "#21\n",
    "names = 'Joe, David, Mark, Tom, Chris, Robert'\n",
    "n2=names.replace(', ',' ')\n",
    "n3=n2.split()\n",
    "print(n3)"
   ]
  },
  {
   "cell_type": "code",
   "execution_count": 67,
   "metadata": {},
   "outputs": [
    {
     "name": "stdout",
     "output_type": "stream",
     "text": [
      "i m sorry!!!\n"
     ]
    }
   ],
   "source": [
    "# 20\n",
    "inp=input(\"enter the String\")\n",
    "for i in inp:\n",
    "    if i.isupper()==True:\n",
    "        print('found')\n",
    "        break\n",
    "    else:\n",
    "        print(\"i m sorry!!!\")\n",
    "        break"
   ]
  },
  {
   "cell_type": "code",
   "execution_count": 68,
   "metadata": {},
   "outputs": [
    {
     "data": {
      "text/plain": [
       "'this is not a good string'"
      ]
     },
     "execution_count": 68,
     "metadata": {},
     "output_type": "execute_result"
    }
   ],
   "source": [
    "# 19\n",
    "text = '   this is not a good string           '\n",
    "text.strip()"
   ]
  },
  {
   "cell_type": "code",
   "execution_count": 71,
   "metadata": {},
   "outputs": [
    {
     "name": "stdout",
     "output_type": "stream",
     "text": [
      "Its a Number\n"
     ]
    }
   ],
   "source": [
    "#18\n",
    "dat=input(\"input the value\")\n",
    "if dat.isnumeric()==True:\n",
    "    print(\"Its a Number\")\n",
    "else:\n",
    "    print(\"Some other Form\")\n"
   ]
  },
  {
   "cell_type": "code",
   "execution_count": 73,
   "metadata": {},
   "outputs": [
    {
     "name": "stdout",
     "output_type": "stream",
     "text": [
      "5\n"
     ]
    }
   ],
   "source": [
    "# 17\n",
    "bgm=input(\"enter the string\")\n",
    "count=0\n",
    "for i in bgm:\n",
    "    if i=='e':\n",
    "        count+=1\n",
    "print(count)"
   ]
  },
  {
   "cell_type": "code",
   "execution_count": 76,
   "metadata": {},
   "outputs": [
    {
     "name": "stdout",
     "output_type": "stream",
     "text": [
      "Kch toh gadbad hain daya??\n"
     ]
    }
   ],
   "source": [
    "# 16\n",
    "gh=input(\"enter the string\")\n",
    "if gh[len(gh)-1]=='?':\n",
    "    print(\"Kch toh gadbad hain daya??\")\n",
    "else:\n",
    "    print(\"All good!!\")"
   ]
  },
  {
   "cell_type": "code",
   "execution_count": 87,
   "metadata": {},
   "outputs": [
    {
     "name": "stdout",
     "output_type": "stream",
     "text": [
      "this\n",
      "is\n",
      "a\n",
      "paragraph\n",
      "which\n",
      "is\n",
      "written\n",
      "just\n",
      "for\n",
      "the\n",
      "purpose\n",
      "of\n",
      "providing\n",
      "content\n",
      "to\n",
      "let\n",
      "the\n",
      "average\n",
      "word\n",
      "length\n",
      "be\n",
      "calculated\n"
     ]
    }
   ],
   "source": [
    "# 15\n",
    "tst=input(\"enter the sentence\")\n",
    "jack=tst.split()\n",
    "for i in jack:\n",
    "    print(i)"
   ]
  },
  {
   "cell_type": "code",
   "execution_count": 100,
   "metadata": {},
   "outputs": [
    {
     "name": "stdout",
     "output_type": "stream",
     "text": [
      "1.\n",
      "2.\n",
      "3.\n",
      "4.\n",
      "5.\n",
      "6.\n",
      "7.\n",
      "8.\n",
      "9.\n"
     ]
    }
   ],
   "source": [
    "# 14\n",
    "i=\"123456789\"\n",
    "for j in i:\n",
    "    print(j+'.')\n"
   ]
  },
  {
   "cell_type": "code",
   "execution_count": 104,
   "metadata": {},
   "outputs": [
    {
     "data": {
      "text/plain": [
       "'python is great.'"
      ]
     },
     "execution_count": 104,
     "metadata": {},
     "output_type": "execute_result"
    }
   ],
   "source": [
    "# 12\n",
    "s1 = 'python '\n",
    "s2 = 'is '\n",
    "s3 = 'great.'\n",
    "''.join(s1+s2+s3)"
   ]
  },
  {
   "cell_type": "code",
   "execution_count": 105,
   "metadata": {},
   "outputs": [
    {
     "name": "stdout",
     "output_type": "stream",
     "text": [
      "the variable is 15\n"
     ]
    }
   ],
   "source": [
    "# 11\n",
    "data=int(input(\"Enter the value\"))\n",
    "print(f'the variable is {data}')"
   ]
  },
  {
   "cell_type": "code",
   "execution_count": 7,
   "metadata": {},
   "outputs": [
    {
     "name": "stdout",
     "output_type": "stream",
     "text": [
      "python\n"
     ]
    }
   ],
   "source": [
    "from string import punctuation\n",
    "text3='%p34@y!*-*!t68h#&on404'\n",
    "for i in punctuation+'0123456789':\n",
    "    text3=text3.replace(i,'')\n",
    "print(text3)"
   ]
  },
  {
   "cell_type": "markdown",
   "metadata": {},
   "source": [
    "<======LOOPS QUESTIONS========>"
   ]
  },
  {
   "cell_type": "code",
   "execution_count": 2,
   "metadata": {},
   "outputs": [
    {
     "name": "stdout",
     "output_type": "stream",
     "text": [
      "argahsuk si eman ym\n"
     ]
    }
   ],
   "source": [
    "#19\n",
    "words=input(\"Enter the sentence\")\n",
    "reversed_sentence = ''\n",
    "i = len(words) - 1\n",
    "while i >= 0:\n",
    "    \n",
    "    reversed_sentence+=words[i]\n",
    "    i-=1\n",
    "print(reversed_sentence)\n",
    "    "
   ]
  },
  {
   "cell_type": "code",
   "execution_count": 44,
   "metadata": {},
   "outputs": [
    {
     "name": "stdout",
     "output_type": "stream",
     "text": [
      "the maximum value is: 56\n",
      "the minimum value is: 4\n"
     ]
    }
   ],
   "source": [
    "# 18 Write a program to find the largest and smallest elements in an array using a for loop\n",
    "arr=[12,4,6,43,56,43,24,53,51]\n",
    "max=arr[0]\n",
    "min=arr[0]\n",
    "for i in arr:\n",
    "   if i>max:\n",
    "      max=i\n",
    "   elif i<min:\n",
    "      min=i\n",
    "print(f'the maximum value is: {max}')\n",
    "print(f'the minimum value is: {min}')\n",
    "\n"
   ]
  },
  {
   "cell_type": "code",
   "execution_count": 46,
   "metadata": {},
   "outputs": [
    {
     "name": "stdout",
     "output_type": "stream",
     "text": [
      "2\n"
     ]
    }
   ],
   "source": [
    "# 17:Write a program to count the number of vowels in a given string using a for loop.\n",
    "str=input(\"Enter the Required String\")\n",
    "count=0\n",
    "for i in str:\n",
    "    if i=='a' or i=='e' or i=='i' or i=='' or i=='o' or i=='u' :\n",
    "        count+=1\n",
    "print(count)"
   ]
  },
  {
   "cell_type": "code",
   "execution_count": 61,
   "metadata": {},
   "outputs": [
    {
     "name": "stdout",
     "output_type": "stream",
     "text": [
      "the factorial of 14 is:87178291200\n"
     ]
    }
   ],
   "source": [
    "# 16:Write a program to find the factorial of a number using a for loop.\n",
    "num=int(input(\"Enter the Number\"))\n",
    "fact=1\n",
    "for i in range(1,num+1):\n",
    " fact=fact*i\n",
    "print(f'the factorial of {num} is:{fact}')\n"
   ]
  },
  {
   "cell_type": "code",
   "execution_count": 3,
   "metadata": {},
   "outputs": [
    {
     "name": "stdout",
     "output_type": "stream",
     "text": [
      "1*1=1\n",
      "1*2=2\n",
      "1*3=3\n",
      "1*4=4\n",
      "1*5=5\n",
      "1*6=6\n",
      "1*7=7\n",
      "1*8=8\n",
      "1*9=9\n",
      "1*10=10\n",
      "2*1=2\n",
      "2*2=4\n",
      "2*3=6\n",
      "2*4=8\n",
      "2*5=10\n",
      "2*6=12\n",
      "2*7=14\n",
      "2*8=16\n",
      "2*9=18\n",
      "2*10=20\n",
      "3*1=3\n",
      "3*2=6\n",
      "3*3=9\n",
      "3*4=12\n",
      "3*5=15\n",
      "3*6=18\n",
      "3*7=21\n",
      "3*8=24\n",
      "3*9=27\n",
      "3*10=30\n",
      "4*1=4\n",
      "4*2=8\n",
      "4*3=12\n",
      "4*4=16\n",
      "4*5=20\n",
      "4*6=24\n",
      "4*7=28\n",
      "4*8=32\n",
      "4*9=36\n",
      "4*10=40\n",
      "5*1=5\n",
      "5*2=10\n",
      "5*3=15\n",
      "5*4=20\n",
      "5*5=25\n",
      "5*6=30\n",
      "5*7=35\n",
      "5*8=40\n",
      "5*9=45\n",
      "5*10=50\n"
     ]
    }
   ],
   "source": [
    "# 15:Write a program to print the multiplication table of numbers from 1 to 5 using a for loop\n",
    "for i in range(1,6):\n",
    "    for j in range(1,11):\n",
    "     print(f'{i}*{j}={i*j}')\n",
    "        "
   ]
  },
  {
   "cell_type": "code",
   "execution_count": 95,
   "metadata": {},
   "outputs": [
    {
     "name": "stdout",
     "output_type": "stream",
     "text": [
      "2001 Not a leap year list\n",
      "1990 Not a leap year list\n",
      "1960 leap year list\n",
      "2024 leap year list\n",
      "2023 Not a leap year list\n",
      "1690 Not a leap year list\n"
     ]
    }
   ],
   "source": [
    "# 14:Write a program to check if a given list of years has a leap year using a while loop\n",
    "years=[2001,1990,1960,2024,2023,1690]\n",
    "i=0\n",
    "count=0\n",
    "while i<len(years):\n",
    "    yea=years[i]\n",
    "    if (yea%4==0 and yea%100!=0) or (yea%400==0):\n",
    "        print(yea,\"leap year list\")\n",
    "        \n",
    "    else:\n",
    "        print(yea,\"Not a leap year list\")\n",
    "    i+=1\n",
    "        \n",
    "    \n",
    "\n",
    "\n",
    "\n"
   ]
  },
  {
   "cell_type": "code",
   "execution_count": 1,
   "metadata": {},
   "outputs": [
    {
     "name": "stdout",
     "output_type": "stream",
     "text": [
      "9\n"
     ]
    }
   ],
   "source": [
    "# 13:Write a program to calculate the sum of digits of a number using a for loop\n",
    "num=int(input(\"enter the number\"))\n",
    "sum=0\n",
    "while num>0:\n",
    "    sum+=num%10\n",
    "    num=num//10\n",
    "print(sum)\n",
    "\n",
    "\n",
    "\n",
    "\n",
    "\n",
    "    "
   ]
  },
  {
   "cell_type": "code",
   "execution_count": 1,
   "metadata": {},
   "outputs": [
    {
     "name": "stdout",
     "output_type": "stream",
     "text": [
      "10\n"
     ]
    }
   ],
   "source": [
    "# Write a program to find the smallest element in an array using a while loop.\n",
    "arre=[52,78,96,11,10,32,12]\n",
    "min=arre[0]\n",
    "i=0\n",
    "while i<len(arre):\n",
    "    if min>arre[i]:\n",
    "     min=arre[i]\n",
    "     \n",
    "    i+=1\n",
    "print(min)   "
   ]
  },
  {
   "cell_type": "code",
   "execution_count": 38,
   "metadata": {},
   "outputs": [
    {
     "name": "stdout",
     "output_type": "stream",
     "text": [
      "421.3\n"
     ]
    }
   ],
   "source": [
    "# Write a program to calculate the average of a list of numbers using a for loop\n",
    "sete=[54,76,53,24,78,453,2424,24,997,30]\n",
    "sum=0\n",
    "count=0\n",
    "for i in sete:\n",
    "    sum=sum+i\n",
    "    count+=1\n",
    "print(sum/count)"
   ]
  },
  {
   "cell_type": "code",
   "execution_count": 69,
   "metadata": {},
   "outputs": [
    {
     "name": "stdout",
     "output_type": "stream",
     "text": [
      "Nope\n"
     ]
    }
   ],
   "source": [
    "# Write a program to check if a given string is a palindrome using a for loop\n",
    "str1=\"Kushagra\"\n",
    "for i in range(0,len(str1)):\n",
    " if str1[i]==str1[-i-1]:\n",
    "  print(\"palindromic\")\n",
    "else:\n",
    "  print(\"Nope\")\n",
    "    \n"
   ]
  },
  {
   "cell_type": "code",
   "execution_count": 73,
   "metadata": {},
   "outputs": [
    {
     "name": "stdout",
     "output_type": "stream",
     "text": [
      "2550\n"
     ]
    }
   ],
   "source": [
    "# Write a program to find the sum of all even numbers between 1 and 100 using a for loop\n",
    "sum=0\n",
    "for i in range(0,101,2):\n",
    "    sum=sum+i\n",
    "print(sum)"
   ]
  },
  {
   "cell_type": "code",
   "execution_count": 8,
   "metadata": {},
   "outputs": [],
   "source": [
    "# code to find the Area of a circle using function\n",
    "def area_circle(r:int):\n",
    "    ar=3.142*r**2\n",
    "    return ar\n",
    "    "
   ]
  },
  {
   "cell_type": "code",
   "execution_count": 9,
   "metadata": {},
   "outputs": [
    {
     "data": {
      "text/plain": [
       "3848.95"
      ]
     },
     "execution_count": 9,
     "metadata": {},
     "output_type": "execute_result"
    }
   ],
   "source": [
    "area_circle(35)"
   ]
  },
  {
   "cell_type": "code",
   "execution_count": 1,
   "metadata": {},
   "outputs": [],
   "source": [
    "# code to print the perimeter of rectangle using function:\n",
    "def per_rect(l:int,b:int):\n",
    "    '''Creating a function to \n",
    "    calculate the perimeter of a rectange with arguments:\n",
    "         l-->length\n",
    "         b-->breadth '''\n",
    "    return 2*(l+b)\n",
    "    "
   ]
  },
  {
   "cell_type": "code",
   "execution_count": 4,
   "metadata": {},
   "outputs": [
    {
     "name": "stdout",
     "output_type": "stream",
     "text": [
      "the perimeter of 10 and 20 is 60\n"
     ]
    }
   ],
   "source": [
    "a=int(input(\"enter the values\"))\n",
    "b=int(input(\"enter the values\"))\n",
    "peri=per_rect(a,b)\n",
    "print(f'the perimeter of {a} and {b} is {peri}')"
   ]
  },
  {
   "cell_type": "code",
   "execution_count": 6,
   "metadata": {},
   "outputs": [],
   "source": [
    "f=lambda x,y,z:(3*x**3+4*y-z*4)/9\n"
   ]
  },
  {
   "cell_type": "code",
   "execution_count": 7,
   "metadata": {},
   "outputs": [
    {
     "name": "stdout",
     "output_type": "stream",
     "text": [
      "41.22222222222222\n"
     ]
    }
   ],
   "source": [
    "print(f(5,8,9))"
   ]
  }
 ],
 "metadata": {
  "kernelspec": {
   "display_name": "Python 3",
   "language": "python",
   "name": "python3"
  },
  "language_info": {
   "codemirror_mode": {
    "name": "ipython",
    "version": 3
   },
   "file_extension": ".py",
   "mimetype": "text/x-python",
   "name": "python",
   "nbconvert_exporter": "python",
   "pygments_lexer": "ipython3",
   "version": "3.12.3"
  }
 },
 "nbformat": 4,
 "nbformat_minor": 2
}
