{
 "cells": [
  {
   "cell_type": "code",
   "execution_count": 1,
   "metadata": {},
   "outputs": [
    {
     "name": "stdout",
     "output_type": "stream",
     "text": [
      "alex\n",
      "baron\n"
     ]
    }
   ],
   "source": [
    "a='alex'\n",
    "b='baron'\n",
    "print(a)\n",
    "print(b)"
   ]
  },
  {
   "cell_type": "code",
   "execution_count": 3,
   "metadata": {},
   "outputs": [
    {
     "name": "stdout",
     "output_type": "stream",
     "text": [
      "Your name is victor\n"
     ]
    }
   ],
   "source": [
    "nam=input(\"enter your name\")\n",
    "print(\"Your name is\",nam)"
   ]
  },
  {
   "cell_type": "code",
   "execution_count": 5,
   "metadata": {},
   "outputs": [
    {
     "name": "stdout",
     "output_type": "stream",
     "text": [
      "2 8 2\n"
     ]
    }
   ],
   "source": [
    "num1=input(\"enter a number\")\n",
    "num2=input(\"enter another number\")\n",
    "print(num1,num2,num1)"
   ]
  },
  {
   "cell_type": "code",
   "execution_count": 6,
   "metadata": {},
   "outputs": [],
   "source": [
    "# displaying data with messages\n",
    "# 1. comma seperated\n",
    "# 2.format String\n",
    "# 3.format function\n",
    "# 4.string concatenation\n",
    "# 5.f-string"
   ]
  },
  {
   "cell_type": "code",
   "execution_count": 10,
   "metadata": {},
   "outputs": [
    {
     "name": "stdout",
     "output_type": "stream",
     "text": [
      "the values are 5,3.500000,good day\n",
      "the values are good day,5,3.500000\n",
      "the values are good day,5,3.5\n"
     ]
    }
   ],
   "source": [
    "# format string\n",
    "a,b,c=5,3.5,'good day' #multipleassignment\n",
    "print(\"the values are %d,%f,%s\"%(a,b,c)) #%d=int\n",
    "print(\"the values are %s,%d,%f\"%(c,a,b)) #%d=int\n",
    "print(\"the values are %s,%s,%s\"%(c,a,b)) #%d=int"
   ]
  },
  {
   "cell_type": "code",
   "execution_count": 12,
   "metadata": {},
   "outputs": [
    {
     "name": "stdout",
     "output_type": "stream",
     "text": [
      "the value of a=5,b=3.5,c=good day\n"
     ]
    }
   ],
   "source": [
    "# string interpolation(format method)\n",
    "print('the value of a={},b={},c={}'.format(a,b,c))\n"
   ]
  },
  {
   "cell_type": "code",
   "execution_count": 22,
   "metadata": {},
   "outputs": [
    {
     "name": "stdout",
     "output_type": "stream",
     "text": [
      "value of a= 5 b= 3.5 c= good day\n"
     ]
    }
   ],
   "source": [
    "#string Concatenation\n",
    "print('value of' + ' a= '+str(a)+' b= '+str(b)+' c= '+str(c))\n"
   ]
  },
  {
   "cell_type": "code",
   "execution_count": 25,
   "metadata": {},
   "outputs": [
    {
     "name": "stdout",
     "output_type": "stream",
     "text": [
      "the value of a=>5,b=>3.5,c=>good day\n"
     ]
    }
   ],
   "source": [
    "#f-string\n",
    "print(f'the value of a=>{a},b=>{b},c=>{c}')"
   ]
  },
  {
   "cell_type": "code",
   "execution_count": 28,
   "metadata": {},
   "outputs": [
    {
     "name": "stdout",
     "output_type": "stream",
     "text": [
      "10 / 3= 3.3333333333333335\n",
      "10 / 3= 3.33\n"
     ]
    }
   ],
   "source": [
    "###f-string setting\n",
    "#formating values\n",
    "a,b=10,3\n",
    "print(f'{a} / {b}= {a/b}')\n",
    "print(f'{a} / {b}= {a/b:.2f}') #.2f>> two decimel places"
   ]
  },
  {
   "cell_type": "code",
   "execution_count": 31,
   "metadata": {},
   "outputs": [
    {
     "name": "stdout",
     "output_type": "stream",
     "text": [
      "You are Alex\n",
      "You are Alex      \n",
      "You are       Alex\n",
      "You are    Alex   \n"
     ]
    }
   ],
   "source": [
    "#alignment\n",
    "name='Alex'\n",
    "print(f'You are {name}') #10:no. of characters for display\n",
    "print(f'You are {name:10}') #10:no. of characters for display\n",
    "print(f'You are {name:>10}') #right align\n",
    "print(f'You are {name:^10}')#centre align"
   ]
  },
  {
   "cell_type": "code",
   "execution_count": 2,
   "metadata": {},
   "outputs": [
    {
     "name": "stdout",
     "output_type": "stream",
     "text": [
      "🍎fruit 1:       Apple\n",
      "🫐fruit 2:   Blueberry\n",
      "🍒fruit 3:      cherry\n",
      "🐉fruit 4:Dragon Fruit\n"
     ]
    }
   ],
   "source": [
    "a,b,c,d='Apple', 'Blueberry','cherry', 'Dragon Fruit'\n",
    "print(f'🍎fruit 1:{a:>12}')\n",
    "print(f'🫐fruit 2:{b:>12}')\n",
    "print(f'🍒fruit 3:{c:>12}')\n",
    "print(f'🐉fruit 4:{d:>12}')"
   ]
  },
  {
   "cell_type": "code",
   "execution_count": 34,
   "metadata": {},
   "outputs": [
    {
     "name": "stdout",
     "output_type": "stream",
     "text": [
      "color:   red\n",
      "color: green\n",
      "color:yellow\n",
      "color:orange\n"
     ]
    }
   ],
   "source": [
    "a,b,c,d='red','green','yellow','orange'\n",
    "print(f'color:{a:>6}')\n",
    "print(f'color:{b:>6}')\n",
    "print(f'color:{c:>6}')\n",
    "print(f'color:{d:>6}')"
   ]
  },
  {
   "cell_type": "code",
   "execution_count": 3,
   "metadata": {},
   "outputs": [
    {
     "name": "stdout",
     "output_type": "stream",
     "text": [
      "True\n",
      "True\n",
      "False\n"
     ]
    }
   ],
   "source": [
    "fruits=['Apple', 'Blueberry','cherry', 'Dragon Fruit']\n",
    "print('cherry' in fruits)\n",
    "print('Blueberry' in fruits)\n",
    "print('Guava' in fruits)"
   ]
  },
  {
   "cell_type": "code",
   "execution_count": 5,
   "metadata": {},
   "outputs": [
    {
     "name": "stdout",
     "output_type": "stream",
     "text": [
      "True\n",
      "False\n"
     ]
    }
   ],
   "source": [
    "f=fruits #f is a reference to the fruits\n",
    "print(f is fruits)\n",
    "f2=fruits.copy()#f2 is the copy of fruits\n",
    "print(f2 is fruits)\n",
    "\n"
   ]
  }
 ],
 "metadata": {
  "kernelspec": {
   "display_name": "Python 3",
   "language": "python",
   "name": "python3"
  },
  "language_info": {
   "codemirror_mode": {
    "name": "ipython",
    "version": 3
   },
   "file_extension": ".py",
   "mimetype": "text/x-python",
   "name": "python",
   "nbconvert_exporter": "python",
   "pygments_lexer": "ipython3",
   "version": "3.12.3"
  }
 },
 "nbformat": 4,
 "nbformat_minor": 2
}
