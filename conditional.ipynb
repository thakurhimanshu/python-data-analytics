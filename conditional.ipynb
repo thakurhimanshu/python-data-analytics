{
 "cells": [
  {
   "cell_type": "code",
   "execution_count": 1,
   "metadata": {},
   "outputs": [
    {
     "name": "stdout",
     "output_type": "stream",
     "text": [
      "b is greater\n"
     ]
    }
   ],
   "source": [
    "# Checking the Age\n",
    "a=int(input(\"enter the age\"))\n",
    "b=int(input(\"enter the age\"))\n",
    "if a>b:\n",
    "    print(\"a is greater\")\n",
    "else:\n",
    "    print(\"b is greater\")\n",
    "    \n",
    "    "
   ]
  },
  {
   "cell_type": "code",
   "execution_count": 4,
   "metadata": {},
   "outputs": [
    {
     "name": "stdout",
     "output_type": "stream",
     "text": [
      "error\n"
     ]
    }
   ],
   "source": [
    "# Summing the Age using Conditional statement\n",
    "a=int(input(\"enter the age\"))\n",
    "b=int(input(\"enter the age\"))\n",
    "if a>b:\n",
    "    sum=a+b\n",
    "    print(sum)\n",
    "else:\n",
    "    print(\"error\")\n",
    "    "
   ]
  },
  {
   "cell_type": "code",
   "execution_count": 5,
   "metadata": {},
   "outputs": [
    {
     "name": "stdout",
     "output_type": "stream",
     "text": [
      "discount is: 7.5\n"
     ]
    }
   ],
   "source": [
    "# Calculating the Discount over the bill\n",
    "bill=int(input(\"Enter the Bill Unit\"))\n",
    "if bill<100:\n",
    "    discount=bill*0.02\n",
    "    print(\"discount is:\",discount)\n",
    "elif [bill>100 and bill<200]:\n",
    "    discount=bill*0.05\n",
    "    print(\"discount is:\",discount)\n",
    "else:\n",
    "    discount=bill*0.07\n",
    "    print(\"discount is:\",discount)\n",
    "\n",
    "    \n"
   ]
  },
  {
   "cell_type": "code",
   "execution_count": 9,
   "metadata": {},
   "outputs": [
    {
     "name": "stdout",
     "output_type": "stream",
     "text": [
      "Not Divisible by 2\n"
     ]
    }
   ],
   "source": [
    "# Checking the divisibility by 2\n",
    "number=int(input(\"Enter the Number\"))\n",
    "if number%2==0:\n",
    "    print(\"Number is divisible by 2\")\n",
    "else:\n",
    "    print(\"Not Divisible by 2\")\n"
   ]
  },
  {
   "cell_type": "code",
   "execution_count": 12,
   "metadata": {},
   "outputs": [
    {
     "name": "stdout",
     "output_type": "stream",
     "text": [
      "An Equilateral Triangle\n",
      "42\n"
     ]
    }
   ],
   "source": [
    "# Checking the Side of the triangle\n",
    "s1=int(input(\"Enter the side\"))\n",
    "s2=int(input(\"Enter the side\"))\n",
    "s3=int(input(\"Enter the side\"))\n",
    "if s1==s2 and s2==s3 and s1==s3:\n",
    "    print(\"An Equilateral Triangle\")\n",
    "    sum=s1+s2+s3\n",
    "    print(sum)\n",
    "else:\n",
    "    print(\"Not an Equilateral triangle\")\n",
    "    opr=s1+s2-s3\n",
    "    print(opr)\n"
   ]
  },
  {
   "cell_type": "code",
   "execution_count": 2,
   "metadata": {},
   "outputs": [
    {
     "name": "stdout",
     "output_type": "stream",
     "text": [
      "DISTINCTION\n"
     ]
    }
   ],
   "source": [
    "# Practise_question\n",
    "sci=int(input(\"Enter the marks\"))\n",
    "math=int(input(\"Enter the marks\"))\n",
    "eng=int(input(\"Enter the marks\"))\n",
    "sum=sci+math+eng\n",
    "if sum<120:\n",
    "    print(\"BETTER LUCK NEXT TIME\")\n",
    "elif sum>120 and sum<200:\n",
    "    print(\"CONGRATULATION PASSED WITH 3RD DIVISION\")\n",
    "elif sum>200 and sum<250:\n",
    "    print(\"CONGRATULATION PASSED WITH 2ND DIVISION\")\n",
    "else:\n",
    "    print(\"DISTINCTION\")\n",
    "    "
   ]
  },
  {
   "cell_type": "code",
   "execution_count": 1,
   "metadata": {},
   "outputs": [
    {
     "name": "stdout",
     "output_type": "stream",
     "text": [
      "X is Smallest\n"
     ]
    }
   ],
   "source": [
    "x=39\n",
    "y=70\n",
    "z=90\n",
    "if x>y:\n",
    "    print(\"X is greater than Y\")\n",
    "elif x>z:\n",
    "    print(\"X is greater than Z\")\n",
    "\n",
    "else:\n",
    "    print(\"X is Smallest\")    "
   ]
  },
  {
   "cell_type": "code",
   "execution_count": 4,
   "metadata": {},
   "outputs": [
    {
     "name": "stdout",
     "output_type": "stream",
     "text": [
      "SORRY\n"
     ]
    }
   ],
   "source": [
    "list=[\"a\",\"e\",\"i\",\"o\",\"u\"]\n",
    "inp=input(\"Enter the Alphabet\")\n",
    "if inp in list :\n",
    "    print(inp)\n",
    "else:\n",
    "    print(\"SORRY\")\n"
   ]
  },
  {
   "cell_type": "code",
   "execution_count": 14,
   "metadata": {},
   "outputs": [
    {
     "name": "stdout",
     "output_type": "stream",
     "text": [
      " Satisfied\n"
     ]
    }
   ],
   "source": [
    "s1=int(input(\"Enter the side\"))\n",
    "s2=int(input(\"Enter the side\"))\n",
    "s3=int(input(\"Enter the side\"))\n",
    "if (s1==s2 and s2==s3 and s1==s3) :\n",
    "    print(\"Satisfied\")\n",
    "    \n",
    "elif s1==s2 or s2==s3 or s1==s3:\n",
    "    print(\" Satisfied\")\n",
    "else:\n",
    "    print(\"Not Satisfied\")\n",
    "    "
   ]
  },
  {
   "cell_type": "code",
   "execution_count": 12,
   "metadata": {},
   "outputs": [
    {
     "name": "stdout",
     "output_type": "stream",
     "text": [
      "Its a Leap Year\n"
     ]
    }
   ],
   "source": [
    "a=int(input(\"input the year\"))\n",
    "if a%4==0:\n",
    "    print(\"Its a Leap Year\")\n",
    "else:\n",
    "    print(\"Not a Leap year\")"
   ]
  },
  {
   "cell_type": "code",
   "execution_count": 13,
   "metadata": {},
   "outputs": [
    {
     "name": "stdout",
     "output_type": "stream",
     "text": [
      "Eligible to Vote\n"
     ]
    }
   ],
   "source": [
    "age=int(input(\"Enter the age\"))\n",
    "if age>=18:\n",
    "    print(\"Eligible to Vote\")\n",
    "else:\n",
    "    print(\"Not eligible\")"
   ]
  },
  {
   "cell_type": "code",
   "execution_count": 16,
   "metadata": {},
   "outputs": [
    {
     "name": "stdout",
     "output_type": "stream",
     "text": [
      "KKR will win the IPL2024\n"
     ]
    }
   ],
   "source": [
    "x=18\n",
    "y=20\n",
    "if x>17:\n",
    "    if y>15:\n",
    "        print(\"KKR will win the IPL2024\")\n",
    "    else:\n",
    "        print(\"SRH will take the Spot\")\n",
    "else:\n",
    "    print(\"RCB will Win\")\n",
    " \n",
    "\n",
    "    \n"
   ]
  },
  {
   "cell_type": "code",
   "execution_count": 17,
   "metadata": {},
   "outputs": [],
   "source": [
    "a=int(input(\"input the year\"))\n",
    "if a%4==0:\n",
    "    if a%100==0:\n",
    "        if a%400==0:\n",
    "            print(\"Its a Leap Year\")\n",
    "else:\n",
    "    print(\"Not a Leap year\")"
   ]
  },
  {
   "cell_type": "code",
   "execution_count": 2,
   "metadata": {},
   "outputs": [
    {
     "name": "stdout",
     "output_type": "stream",
     "text": [
      "ACCOUNT CREATED SUCCESSFULLY😎😎\n"
     ]
    }
   ],
   "source": [
    "# Nested_If\n",
    "username=input(\"Enter the Username\")\n",
    "email=input(\"Enter the email\")\n",
    "ps1=input(\"Enter the password\")\n",
    "ps2=input(\"Enter the password\")\n",
    "if len(username)>=4 and len(username)<=18:\n",
    "    if \"@\"in email and len(email)>10:\n",
    "        if ps1==ps2:\n",
    "            print(\"ACCOUNT CREATED SUCCESSFULLY😎😎\")\n",
    "        else:\n",
    "            print(\"PASSWORD NOT MATCHED💣\")\n",
    "    else:\n",
    "       print(\"WRONG EMAIL😒\")\n",
    "else:\n",
    "    print(\"INVALID USERNAME🤦‍♂️\")\n",
    "        \n",
    "\n",
    "        "
   ]
  },
  {
   "cell_type": "code",
   "execution_count": null,
   "metadata": {},
   "outputs": [],
   "source": []
  },
  {
   "cell_type": "code",
   "execution_count": null,
   "metadata": {},
   "outputs": [],
   "source": []
  }
 ],
 "metadata": {
  "kernelspec": {
   "display_name": "Python 3",
   "language": "python",
   "name": "python3"
  },
  "language_info": {
   "codemirror_mode": {
    "name": "ipython",
    "version": 3
   },
   "file_extension": ".py",
   "mimetype": "text/x-python",
   "name": "python",
   "nbconvert_exporter": "python",
   "pygments_lexer": "ipython3",
   "version": "3.12.3"
  }
 },
 "nbformat": 4,
 "nbformat_minor": 2
}
