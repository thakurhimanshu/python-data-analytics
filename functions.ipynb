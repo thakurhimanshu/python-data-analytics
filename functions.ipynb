{
 "cells": [
  {
   "cell_type": "markdown",
   "metadata": {},
   "source": [
    "Functions are of two type:\n",
    "    -pre-defined(print,input,sum,len,isinstance,type......)\n",
    "    -user-defined(defined by coder)\n",
    "      ->code reuse>>\n",
    "      ->Managable\n",
    "    ->for easily debugging\n",
    "\n",
    "    <<---------TYPES OF FUNCTIONS------------->>\n",
    "\n",
    "  1)  INPUT>>>>>>>[FUNCTION]>>>>>OUTPUT\n",
    "  2)              [FUNCTION]\n",
    "  3)  INPUT>>>>>>>[FUNCTION]\n",
    "  4)              [FUNCTION]>>>>>OUTPUT\n"
   ]
  },
  {
   "cell_type": "code",
   "execution_count": 2,
   "metadata": {},
   "outputs": [],
   "source": [
    "#defining the function\n",
    "def greeting():\n",
    "    print('😎🌳🌍')\n",
    "    print('SAVE ENVIRONMENT')\n",
    "    print('😎🌳🌍')"
   ]
  },
  {
   "cell_type": "code",
   "execution_count": 4,
   "metadata": {},
   "outputs": [
    {
     "data": {
      "text/plain": [
       "<function __main__.greeting()>"
      ]
     },
     "execution_count": 4,
     "metadata": {},
     "output_type": "execute_result"
    }
   ],
   "source": [
    "#calling a function\n",
    "greeting\n",
    "# __main__: current executed file reference\n"
   ]
  },
  {
   "cell_type": "code",
   "execution_count": 5,
   "metadata": {},
   "outputs": [
    {
     "name": "stdout",
     "output_type": "stream",
     "text": [
      "😎🌳🌍\n",
      "SAVE ENVIRONMENT\n",
      "😎🌳🌍\n"
     ]
    }
   ],
   "source": [
    "greeting() #non-parameterize function   #None:no return( nothing in Paranthesis)\n",
    "# print(greeting())"
   ]
  },
  {
   "cell_type": "code",
   "execution_count": 6,
   "metadata": {},
   "outputs": [],
   "source": [
    "def rolls(): #Non-parameterized function\n",
    "    from random import randint\n",
    "    dice=randint(1,6) #parameter were provided, therfore it will return the value\n",
    "    print(f'🎲==>{dice}')"
   ]
  },
  {
   "cell_type": "code",
   "execution_count": 9,
   "metadata": {},
   "outputs": [
    {
     "name": "stdout",
     "output_type": "stream",
     "text": [
      "🎲==>2\n"
     ]
    }
   ],
   "source": [
    "rolls()"
   ]
  },
  {
   "cell_type": "code",
   "execution_count": 10,
   "metadata": {},
   "outputs": [],
   "source": [
    "def area(l,b):\n",
    "    a=l*b\n",
    "    print(f'{l}*{b}==>{a}')"
   ]
  },
  {
   "cell_type": "code",
   "execution_count": 12,
   "metadata": {},
   "outputs": [
    {
     "name": "stdout",
     "output_type": "stream",
     "text": [
      "15*8==>120\n"
     ]
    }
   ],
   "source": [
    "area(15,8)"
   ]
  },
  {
   "cell_type": "code",
   "execution_count": 13,
   "metadata": {},
   "outputs": [],
   "source": [
    "# professional way of writing a function\n",
    "def perimeter(l:int,b:int) ->None:\n",
    "    '''Calculates the perimeter of triangle\n",
    "    args:\n",
    "      l->length\n",
    "      b->breadth'''\n",
    "    p=2*(l+b)\n",
    "    print(p)\n"
   ]
  },
  {
   "cell_type": "code",
   "execution_count": 14,
   "metadata": {},
   "outputs": [
    {
     "name": "stdout",
     "output_type": "stream",
     "text": [
      "352\n"
     ]
    }
   ],
   "source": [
    "perimeter(120,56)"
   ]
  },
  {
   "cell_type": "code",
   "execution_count": 3,
   "metadata": {},
   "outputs": [],
   "source": [
    "# Value returning function\n",
    "def five():\n",
    "    from random import choices\n",
    "    data=list(range(1,101))\n",
    "    return choices(data,k=5)"
   ]
  },
  {
   "cell_type": "code",
   "execution_count": 4,
   "metadata": {},
   "outputs": [
    {
     "name": "stdout",
     "output_type": "stream",
     "text": [
      "[44, 95, 29, 43, 47]\n"
     ]
    }
   ],
   "source": [
    "print(five())"
   ]
  },
  {
   "cell_type": "code",
   "execution_count": 23,
   "metadata": {},
   "outputs": [
    {
     "name": "stdout",
     "output_type": "stream",
     "text": [
      "[18, 48, 15, 3, 6]\n",
      "[37, 16, 83, 31, 64]\n"
     ]
    }
   ],
   "source": [
    "try1=five()\n",
    "try2=five()\n",
    "print(try1)\n",
    "print(try2)\n"
   ]
  },
  {
   "cell_type": "code",
   "execution_count": 29,
   "metadata": {},
   "outputs": [],
   "source": [
    "def area_circle(r:int):\n",
    "    a=22/7*r*r\n",
    "    print(a)"
   ]
  },
  {
   "cell_type": "code",
   "execution_count": 30,
   "metadata": {},
   "outputs": [
    {
     "name": "stdout",
     "output_type": "stream",
     "text": [
      "6364.285714285714\n"
     ]
    }
   ],
   "source": [
    "area_circle(45)"
   ]
  },
  {
   "cell_type": "code",
   "execution_count": 5,
   "metadata": {},
   "outputs": [],
   "source": [
    "def arr2(r1):\n",
    "    return 3.142*r1**2\n"
   ]
  },
  {
   "cell_type": "code",
   "execution_count": 7,
   "metadata": {},
   "outputs": [
    {
     "name": "stdout",
     "output_type": "stream",
     "text": [
      "Area of circle with radius:10 is 314.2\n"
     ]
    }
   ],
   "source": [
    "radius=int(input(\"Enter the rad\"))\n",
    "ans=arr2(radius)\n",
    "print(f'Area of circle with radius:{radius} is {ans}')"
   ]
  },
  {
   "cell_type": "code",
   "execution_count": 44,
   "metadata": {},
   "outputs": [],
   "source": [
    "def vn(st:str):\n",
    "    dex=''\n",
    "    for i in st:\n",
    "        if i=='a' or i=='e' or i=='i' or i=='o' or i=='u':\n",
    "            continue\n",
    "        dex=dex+i\n",
    "    return dex\n"
   ]
  },
  {
   "cell_type": "code",
   "execution_count": 45,
   "metadata": {},
   "outputs": [
    {
     "data": {
      "text/plain": [
       "'Hll wrld'"
      ]
     },
     "execution_count": 45,
     "metadata": {},
     "output_type": "execute_result"
    }
   ],
   "source": [
    "vn(\"Hello world\")"
   ]
  },
  {
   "cell_type": "code",
   "execution_count": 46,
   "metadata": {},
   "outputs": [],
   "source": [
    "def vow(a:str):\n",
    "    return a.replace('a','').replace('e','').replace('i','').replace('o','').replace('u','')"
   ]
  },
  {
   "cell_type": "code",
   "execution_count": 47,
   "metadata": {},
   "outputs": [
    {
     "data": {
      "text/plain": [
       "'My nm s kshgr'"
      ]
     },
     "execution_count": 47,
     "metadata": {},
     "output_type": "execute_result"
    }
   ],
   "source": [
    "vow(\"My name is kushgara\")"
   ]
  },
  {
   "cell_type": "code",
   "execution_count": 13,
   "metadata": {},
   "outputs": [],
   "source": [
    "def vowel_remover(sentence:str):\n",
    "    for v in 'aeiouAEIOU':\n",
    "        sentence=sentence.replace(v,'🎭')\n",
    "    return sentence"
   ]
  },
  {
   "cell_type": "code",
   "execution_count": 15,
   "metadata": {},
   "outputs": [
    {
     "data": {
      "text/plain": [
       "'K🎭bh🎭 Kh🎭sh🎭 K🎭bh🎭 G🎭m'"
      ]
     },
     "execution_count": 15,
     "metadata": {},
     "output_type": "execute_result"
    }
   ],
   "source": [
    "vowel_remover(\"Kabhi Khushi Kabhi Gam\")"
   ]
  },
  {
   "cell_type": "code",
   "execution_count": 52,
   "metadata": {},
   "outputs": [],
   "source": [
    "#Default fn\n",
    "def summer(a,b,c=0,d=0):  #defaulting the value of c and d\n",
    "    return a+b+c+d"
   ]
  },
  {
   "cell_type": "code",
   "execution_count": 54,
   "metadata": {},
   "outputs": [
    {
     "name": "stdout",
     "output_type": "stream",
     "text": [
      "80\n",
      "209\n"
     ]
    }
   ],
   "source": [
    "# print(summer(10,20))\n",
    "# print(summer(10,20,40)-->Positional argument\n",
    "print(summer(10,20,d=50)) #--->named argument(Keyword arg)\n",
    "# print(summer(10,20,d=90,c=89))----->name argument allow changing the order of the argument\n",
    "print(summer(a=10,b=20,c=90,d=89))"
   ]
  },
  {
   "cell_type": "markdown",
   "metadata": {},
   "source": [
    "# lamda expression-->anonymus fn\n"
   ]
  },
  {
   "cell_type": "code",
   "execution_count": 8,
   "metadata": {},
   "outputs": [
    {
     "name": "stdout",
     "output_type": "stream",
     "text": [
      "40\n"
     ]
    }
   ],
   "source": [
    "f=lambda x:x+5*x-2\n",
    "g=lambda x,y:(x+y)/2\n",
    "print(f(7)) #show the memory"
   ]
  },
  {
   "cell_type": "code",
   "execution_count": 9,
   "metadata": {},
   "outputs": [
    {
     "name": "stdout",
     "output_type": "stream",
     "text": [
      "22\n",
      "65.0\n",
      "24.0\n"
     ]
    }
   ],
   "source": [
    "print(f(4))\n",
    "print(g(45,85))\n",
    "print(g(40,8))"
   ]
  },
  {
   "cell_type": "markdown",
   "metadata": {},
   "source": [
    "--LIST FUNCTION--"
   ]
  },
  {
   "cell_type": "code",
   "execution_count": 2,
   "metadata": {},
   "outputs": [
    {
     "name": "stdout",
     "output_type": "stream",
     "text": [
      "1\n",
      "8\n",
      "27\n",
      "64\n",
      "125\n"
     ]
    }
   ],
   "source": [
    "x=[1,2,3,4,5]\n",
    "for i in x:\n",
    "    print(i**3)"
   ]
  },
  {
   "cell_type": "code",
   "execution_count": 6,
   "metadata": {},
   "outputs": [
    {
     "data": {
      "text/plain": [
       "[11, 18, 37, 74, 135]"
      ]
     },
     "execution_count": 6,
     "metadata": {},
     "output_type": "execute_result"
    }
   ],
   "source": [
    "#map and filter function\n",
    "list(map(lambda i:(i**3),x))\n",
    "set(map(lambda i:(i**3),x))\n",
    "list(map(lambda i:(i**3)+10,x))\n"
   ]
  },
  {
   "cell_type": "code",
   "execution_count": 13,
   "metadata": {},
   "outputs": [
    {
     "data": {
      "text/plain": [
       "[1, 2, 3]"
      ]
     },
     "execution_count": 13,
     "metadata": {},
     "output_type": "execute_result"
    }
   ],
   "source": [
    "#map function >>relaces loops\n",
    "a=['1','2','3']\n",
    "list(map(int,a))"
   ]
  },
  {
   "cell_type": "code",
   "execution_count": 15,
   "metadata": {},
   "outputs": [
    {
     "data": {
      "text/plain": [
       "[6, 36, 48, 78]"
      ]
     },
     "execution_count": 15,
     "metadata": {},
     "output_type": "execute_result"
    }
   ],
   "source": [
    "#filter function\n",
    "y=[5,6,47,36,48,78,33,89,123]\n",
    "list(filter(lambda i:i%2==0,y))"
   ]
  },
  {
   "cell_type": "code",
   "execution_count": 19,
   "metadata": {},
   "outputs": [
    {
     "name": "stdout",
     "output_type": "stream",
     "text": [
      "['file.jpg']\n"
     ]
    }
   ],
   "source": [
    "files=['file1.txt','file2.txt','file3.txt','file4.txt','file.jpg']\n",
    "f=lambda i:i.endswith('.jpg')\n",
    "txt=list(filter(f,files))\n",
    "print(txt)"
   ]
  },
  {
   "cell_type": "markdown",
   "metadata": {},
   "source": [
    "----*args and **kwargs----"
   ]
  },
  {
   "cell_type": "code",
   "execution_count": 24,
   "metadata": {},
   "outputs": [],
   "source": [
    "def multiplier(data):\n",
    "    if not isinstance(data,list):\n",
    "        print(\"data can only be of List type\")\n",
    "        return #can end the function  and return to the caller\n",
    "    result=1\n",
    "    for i in data:\n",
    "        result*=i\n",
    "    return result"
   ]
  },
  {
   "cell_type": "code",
   "execution_count": 25,
   "metadata": {},
   "outputs": [
    {
     "data": {
      "text/plain": [
       "192000"
      ]
     },
     "execution_count": 25,
     "metadata": {},
     "output_type": "execute_result"
    }
   ],
   "source": [
    "multiplier([4,2,5,8,5,8,5,3])"
   ]
  },
  {
   "cell_type": "code",
   "execution_count": 29,
   "metadata": {},
   "outputs": [],
   "source": [
    "def mlp2(*numbers): #treat as tuple\n",
    "    ans=1\n",
    "    for i in numbers:\n",
    "        ans*=i\n",
    "    return ans"
   ]
  },
  {
   "cell_type": "code",
   "execution_count": 30,
   "metadata": {},
   "outputs": [
    {
     "data": {
      "text/plain": [
       "2520"
      ]
     },
     "execution_count": 30,
     "metadata": {},
     "output_type": "execute_result"
    }
   ],
   "source": [
    "mlp2(1,3,4,5,6,7) "
   ]
  },
  {
   "cell_type": "code",
   "execution_count": 31,
   "metadata": {},
   "outputs": [],
   "source": [
    "#keyword_argument\n",
    "#**>>#treat as Dictionary\n",
    "def my_expenses(**it):\n",
    "    for k,v in it.items():\n",
    "        print(f'{k:<10}== ${v}')"
   ]
  },
  {
   "cell_type": "code",
   "execution_count": 32,
   "metadata": {},
   "outputs": [
    {
     "name": "stdout",
     "output_type": "stream",
     "text": [
      "transport == $1600\n",
      "food      == $500\n",
      "rent      == $1000\n"
     ]
    }
   ],
   "source": [
    "my_expenses(transport=1600,food=500,rent=1000)"
   ]
  }
 ],
 "metadata": {
  "kernelspec": {
   "display_name": "Python 3",
   "language": "python",
   "name": "python3"
  },
  "language_info": {
   "codemirror_mode": {
    "name": "ipython",
    "version": 3
   },
   "file_extension": ".py",
   "mimetype": "text/x-python",
   "name": "python",
   "nbconvert_exporter": "python",
   "pygments_lexer": "ipython3",
   "version": "3.12.3"
  }
 },
 "nbformat": 4,
 "nbformat_minor": 2
}
