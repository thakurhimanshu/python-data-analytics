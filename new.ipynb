{
 "cells": [
  {
   "cell_type": "code",
   "execution_count": 1,
   "metadata": {},
   "outputs": [
    {
     "name": "stdout",
     "output_type": "stream",
     "text": [
      "141\n",
      "🚌-->Go to a MANALI TRIP!!!!!\n"
     ]
    }
   ],
   "source": [
    "num=int(input(\"enter the value\"))\n",
    "rev=0\n",
    "temp=num\n",
    "while(num>0):\n",
    "    rev=rev*10+(num%10)\n",
    "    num=num//10\n",
    "print(rev)\n",
    "if(temp==rev):\n",
    "    print(\"🚌-->Go to a MANALI TRIP!!!!!\")\n",
    "    \n",
    "else:\n",
    "    print(\"😒---->Watch Movie on Netflix\")\n",
    "    "
   ]
  },
  {
   "cell_type": "code",
   "execution_count": null,
   "metadata": {},
   "outputs": [],
   "source": []
  }
 ],
 "metadata": {
  "kernelspec": {
   "display_name": "Python 3",
   "language": "python",
   "name": "python3"
  },
  "language_info": {
   "codemirror_mode": {
    "name": "ipython",
    "version": 3
   },
   "file_extension": ".py",
   "mimetype": "text/x-python",
   "name": "python",
   "nbconvert_exporter": "python",
   "pygments_lexer": "ipython3",
   "version": "3.12.3"
  }
 },
 "nbformat": 4,
 "nbformat_minor": 2
}
